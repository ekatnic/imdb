{
 "cells": [
  {
   "cell_type": "code",
   "execution_count": 150,
   "metadata": {},
   "outputs": [],
   "source": [
    "import pandas as pd\n",
    "import numpy as np\n",
    "import ast"
   ]
  },
  {
   "cell_type": "code",
   "execution_count": 151,
   "metadata": {},
   "outputs": [],
   "source": [
    "df = pd.read_csv(\"tmdb_5000_movies.csv\")\n",
    "df = df.drop([\"homepage\",\"id\", \"tagline\",\"status\", \"overview\", \"spoken_languages\", \"original_title\", \"keywords\"], axis = 1)"
   ]
  },
  {
   "cell_type": "code",
   "execution_count": 152,
   "metadata": {},
   "outputs": [],
   "source": [
    "primary_genre = []\n",
    "for movie in df.genres:\n",
    "    if(len(ast.literal_eval(movie)) > 0):\n",
    "        primary_genre.append(ast.literal_eval(movie)[0][\"name\"])\n",
    "    else:\n",
    "        primary_genre.append(\"\")\n",
    "    \n",
    "primary_production = []\n",
    "for movie in df.production_companies:\n",
    "    if(len(ast.literal_eval(movie)) > 0):\n",
    "        primary_production.append(ast.literal_eval(movie)[0][\"name\"])\n",
    "    else:\n",
    "        primary_production.append(\"\")\n",
    "\n",
    "prod_country_iso = []\n",
    "for movie in df.production_countries:\n",
    "    if(len(ast.literal_eval(movie)) > 0):\n",
    "        prod_country_iso.append(ast.literal_eval(movie)[0]['iso_3166_1'])\n",
    "    else:\n",
    "        prod_country_iso.append(\"\")"
   ]
  },
  {
   "cell_type": "code",
   "execution_count": 153,
   "metadata": {},
   "outputs": [],
   "source": [
    "df[\"primary_genre\"] = primary_genre\n",
    "df[\"primary_prod\"] = primary_production\n",
    "df[\"prod_country_iso\"] = prod_country_iso\n",
    "df = df.drop([\"genres\", \"production_companies\", \"production_countries\"], axis = 1)"
   ]
  },
  {
   "cell_type": "code",
   "execution_count": 154,
   "metadata": {},
   "outputs": [
    {
     "data": {
      "text/html": [
       "<div>\n",
       "<style scoped>\n",
       "    .dataframe tbody tr th:only-of-type {\n",
       "        vertical-align: middle;\n",
       "    }\n",
       "\n",
       "    .dataframe tbody tr th {\n",
       "        vertical-align: top;\n",
       "    }\n",
       "\n",
       "    .dataframe thead th {\n",
       "        text-align: right;\n",
       "    }\n",
       "</style>\n",
       "<table border=\"1\" class=\"dataframe\">\n",
       "  <thead>\n",
       "    <tr style=\"text-align: right;\">\n",
       "      <th></th>\n",
       "      <th>budget</th>\n",
       "      <th>original_language</th>\n",
       "      <th>popularity</th>\n",
       "      <th>release_date</th>\n",
       "      <th>revenue</th>\n",
       "      <th>runtime</th>\n",
       "      <th>title</th>\n",
       "      <th>vote_average</th>\n",
       "      <th>vote_count</th>\n",
       "      <th>primary_genre</th>\n",
       "      <th>primary_prod</th>\n",
       "      <th>prod_country_iso</th>\n",
       "    </tr>\n",
       "  </thead>\n",
       "  <tbody>\n",
       "    <tr>\n",
       "      <th>0</th>\n",
       "      <td>237000000</td>\n",
       "      <td>en</td>\n",
       "      <td>150.437577</td>\n",
       "      <td>2009-12-10</td>\n",
       "      <td>2787965087</td>\n",
       "      <td>162.0</td>\n",
       "      <td>Avatar</td>\n",
       "      <td>7.2</td>\n",
       "      <td>11800</td>\n",
       "      <td>Action</td>\n",
       "      <td>Ingenious Film Partners</td>\n",
       "      <td>US</td>\n",
       "    </tr>\n",
       "    <tr>\n",
       "      <th>1</th>\n",
       "      <td>300000000</td>\n",
       "      <td>en</td>\n",
       "      <td>139.082615</td>\n",
       "      <td>2007-05-19</td>\n",
       "      <td>961000000</td>\n",
       "      <td>169.0</td>\n",
       "      <td>Pirates of the Caribbean: At World's End</td>\n",
       "      <td>6.9</td>\n",
       "      <td>4500</td>\n",
       "      <td>Adventure</td>\n",
       "      <td>Walt Disney Pictures</td>\n",
       "      <td>US</td>\n",
       "    </tr>\n",
       "    <tr>\n",
       "      <th>2</th>\n",
       "      <td>245000000</td>\n",
       "      <td>en</td>\n",
       "      <td>107.376788</td>\n",
       "      <td>2015-10-26</td>\n",
       "      <td>880674609</td>\n",
       "      <td>148.0</td>\n",
       "      <td>Spectre</td>\n",
       "      <td>6.3</td>\n",
       "      <td>4466</td>\n",
       "      <td>Action</td>\n",
       "      <td>Columbia Pictures</td>\n",
       "      <td>GB</td>\n",
       "    </tr>\n",
       "    <tr>\n",
       "      <th>3</th>\n",
       "      <td>250000000</td>\n",
       "      <td>en</td>\n",
       "      <td>112.312950</td>\n",
       "      <td>2012-07-16</td>\n",
       "      <td>1084939099</td>\n",
       "      <td>165.0</td>\n",
       "      <td>The Dark Knight Rises</td>\n",
       "      <td>7.6</td>\n",
       "      <td>9106</td>\n",
       "      <td>Action</td>\n",
       "      <td>Legendary Pictures</td>\n",
       "      <td>US</td>\n",
       "    </tr>\n",
       "    <tr>\n",
       "      <th>4</th>\n",
       "      <td>260000000</td>\n",
       "      <td>en</td>\n",
       "      <td>43.926995</td>\n",
       "      <td>2012-03-07</td>\n",
       "      <td>284139100</td>\n",
       "      <td>132.0</td>\n",
       "      <td>John Carter</td>\n",
       "      <td>6.1</td>\n",
       "      <td>2124</td>\n",
       "      <td>Action</td>\n",
       "      <td>Walt Disney Pictures</td>\n",
       "      <td>US</td>\n",
       "    </tr>\n",
       "  </tbody>\n",
       "</table>\n",
       "</div>"
      ],
      "text/plain": [
       "      budget original_language  popularity release_date     revenue  runtime  \\\n",
       "0  237000000                en  150.437577   2009-12-10  2787965087    162.0   \n",
       "1  300000000                en  139.082615   2007-05-19   961000000    169.0   \n",
       "2  245000000                en  107.376788   2015-10-26   880674609    148.0   \n",
       "3  250000000                en  112.312950   2012-07-16  1084939099    165.0   \n",
       "4  260000000                en   43.926995   2012-03-07   284139100    132.0   \n",
       "\n",
       "                                      title  vote_average  vote_count  \\\n",
       "0                                    Avatar           7.2       11800   \n",
       "1  Pirates of the Caribbean: At World's End           6.9        4500   \n",
       "2                                   Spectre           6.3        4466   \n",
       "3                     The Dark Knight Rises           7.6        9106   \n",
       "4                               John Carter           6.1        2124   \n",
       "\n",
       "  primary_genre             primary_prod prod_country_iso  \n",
       "0        Action  Ingenious Film Partners               US  \n",
       "1     Adventure     Walt Disney Pictures               US  \n",
       "2        Action        Columbia Pictures               GB  \n",
       "3        Action       Legendary Pictures               US  \n",
       "4        Action     Walt Disney Pictures               US  "
      ]
     },
     "execution_count": 154,
     "metadata": {},
     "output_type": "execute_result"
    }
   ],
   "source": [
    "df.head()"
   ]
  },
  {
   "cell_type": "code",
   "execution_count": 155,
   "metadata": {},
   "outputs": [
    {
     "data": {
      "text/plain": [
       "budget               0\n",
       "original_language    0\n",
       "popularity           0\n",
       "release_date         1\n",
       "revenue              0\n",
       "runtime              2\n",
       "title                0\n",
       "vote_average         0\n",
       "vote_count           0\n",
       "primary_genre        0\n",
       "primary_prod         0\n",
       "prod_country_iso     0\n",
       "dtype: int64"
      ]
     },
     "execution_count": 155,
     "metadata": {},
     "output_type": "execute_result"
    }
   ],
   "source": [
    "df.isna().sum()"
   ]
  },
  {
   "cell_type": "code",
   "execution_count": null,
   "metadata": {},
   "outputs": [],
   "source": [
    "import statsmodels.formula.api as smf\n",
    "reg = smf.ols(\"vote_average~\", age_data).fit()"
   ]
  }
 ],
 "metadata": {
  "kernelspec": {
   "display_name": "Python 3",
   "language": "python",
   "name": "python3"
  },
  "language_info": {
   "codemirror_mode": {
    "name": "ipython",
    "version": 3
   },
   "file_extension": ".py",
   "mimetype": "text/x-python",
   "name": "python",
   "nbconvert_exporter": "python",
   "pygments_lexer": "ipython3",
   "version": "3.7.3"
  }
 },
 "nbformat": 4,
 "nbformat_minor": 2
}
